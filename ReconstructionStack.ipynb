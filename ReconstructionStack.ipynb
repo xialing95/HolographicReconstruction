{
 "cells": [
  {
   "cell_type": "code",
   "execution_count": 1,
   "metadata": {},
   "outputs": [
    {
     "name": "stderr",
     "output_type": "stream",
     "text": [
      "2025-03-24 15:33:16.743085: I tensorflow/core/platform/cpu_feature_guard.cc:182] This TensorFlow binary is optimized to use available CPU instructions in performance-critical operations.\n",
      "To enable the following instructions: AVX2 FMA, in other operations, rebuild TensorFlow with the appropriate compiler flags.\n",
      "/Users/chuckles/holoVirtualEnv/lib/python3.8/site-packages/tensorflow_addons/utils/tfa_eol_msg.py:23: UserWarning: \n",
      "\n",
      "TensorFlow Addons (TFA) has ended development and introduction of new features.\n",
      "TFA has entered a minimal maintenance and release mode until a planned end of life in May 2024.\n",
      "Please modify downstream libraries to take dependencies from other repositories in our TensorFlow community (e.g. Keras, Keras-CV, and Keras-NLP). \n",
      "\n",
      "For more information see: https://github.com/tensorflow/addons/issues/2807 \n",
      "\n",
      "  warnings.warn(\n"
     ]
    }
   ],
   "source": [
    "# import the library \n",
    "import os\n",
    "import tensorflow as tf\n",
    "import tensorflow.keras as keras\n",
    "from tensorflow.keras import Model, layers, datasets\n",
    "import tensorflow_addons as tfa\n",
    "import matplotlib.pyplot as plt\n",
    "import random\n",
    "import numpy as np\n",
    "from scipy import ndimage as ndi\n",
    "from skimage.util import random_noise\n",
    "from skimage import feature\n",
    "import rawpy\n",
    "import ipywidgets as widgets\n",
    "from IPython.display import display\n",
    "\n",
    "# Marching cube \n",
    "from mpl_toolkits.mplot3d.art3d import Poly3DCollection\n",
    "from skimage import measure\n",
    "from skimage.draw import ellipsoid\n",
    "\n",
    "from fringe.utils.io import import_image, export_image\n",
    "from fringe.utils.modifiers import ImageToArray, ConvertToTensor\n",
    "from fringe.process.gpu import AngularSpectrumSolver as AsSolver\n",
    "\n",
    "def dng_to_gray(FILE_PATH):\n",
    "    with rawpy.imread(FILE_PATH) as raw:\n",
    "    # Convert the raw image to a RGB array\n",
    "        rgb = raw.postprocess()\n",
    "    gray_image = 0.25 * rgb[:, :, 0] + 0.250 * rgb[:, :, 1] + 0.50 * rgb[:, :, 2]\n",
    "    return gray_image\n",
    "\n",
    "def im2double(im):\n",
    "    min_val = np.min(im.ravel())\n",
    "    max_val = np.max(im.ravel())\n",
    "    out = (im.astype('float') - min_val) / (max_val - min_val)\n",
    "    return out\n",
    "\n",
    "def Scale(img, perc, max_val):\n",
    "\timg *= perc\n",
    "\timg += 1 - perc\n",
    "\timg /= max_val\n",
    "\treturn img\n",
    "\n",
    "def generate_stack (hologram, z_layers):\n",
    "    holo_list = []\n",
    "    for i in z_layers:\n",
    "        hologram_amp = tf.math.abs(hologram)\n",
    "        solver = AsSolver(shape=hologram_amp.shape, dx=1.12, dy=1.12, wavelength=650e-3)\n",
    "        \n",
    "        # Adjusting contrast\n",
    "        hologram_amp = Scale(hologram_amp, perc=1, max_val=np.max(hologram_amp))\n",
    "\n",
    "        rec = solver.solve(hologram, i)\n",
    "        amp = np.abs(rec)\n",
    "        holo_list.append(amp)\n",
    "    stacked_holo = np.stack([holo_list], axis = 0)\n",
    "    return stacked_holo[0]\n",
    "\n",
    "def display_image(IMAGE_STACK, index, z_layers):\n",
    "    plt.title(f\"Image at distance: {z_layers[index]} um \")\n",
    "    plt.imshow(IMAGE_STACK[index], cmap='gray')\n",
    "    plt.axis('off')\n",
    "    plt.colorbar()\n",
    "    plt.show()\n"
   ]
  },
  {
   "cell_type": "code",
   "execution_count": null,
   "metadata": {},
   "outputs": [
    {
     "name": "stdout",
     "output_type": "stream",
     "text": [
      "Processing file: /Users/chuckles/holoVirtualEnv/holoimg/03-06-112541-target_closer.dng\n"
     ]
    },
    {
     "ename": "NotADirectoryError",
     "evalue": "[Errno 20] Not a directory: '/Users/chuckles/holoVirtualEnv/holoimg/photo79656.jpg/03-06-112541-target_closer.png'",
     "output_type": "error",
     "traceback": [
      "\u001b[0;31m---------------------------------------------------------------------------\u001b[0m",
      "\u001b[0;31mNotADirectoryError\u001b[0m                        Traceback (most recent call last)",
      "Cell \u001b[0;32mIn[5], line 18\u001b[0m\n\u001b[1;32m     16\u001b[0m new_filename \u001b[38;5;241m=\u001b[39m os\u001b[38;5;241m.\u001b[39mpath\u001b[38;5;241m.\u001b[39msplitext(filename)[\u001b[38;5;241m0\u001b[39m] \u001b[38;5;241m+\u001b[39m \u001b[38;5;124m'\u001b[39m\u001b[38;5;124m.png\u001b[39m\u001b[38;5;124m'\u001b[39m\n\u001b[1;32m     17\u001b[0m save_name \u001b[38;5;241m=\u001b[39m os\u001b[38;5;241m.\u001b[39mpath\u001b[38;5;241m.\u001b[39mjoin(save_path, new_filename)\n\u001b[0;32m---> 18\u001b[0m \u001b[43mplt\u001b[49m\u001b[38;5;241;43m.\u001b[39;49m\u001b[43mimsave\u001b[49m\u001b[43m(\u001b[49m\u001b[43msave_name\u001b[49m\u001b[43m,\u001b[49m\u001b[43m \u001b[49m\u001b[43mreconstruction_stack\u001b[49m\u001b[43m[\u001b[49m\u001b[38;5;241;43m0\u001b[39;49m\u001b[43m]\u001b[49m\u001b[43m)\u001b[49m\n",
      "File \u001b[0;32m~/holoVirtualEnv/lib/python3.8/site-packages/matplotlib/pyplot.py:2200\u001b[0m, in \u001b[0;36mimsave\u001b[0;34m(fname, arr, **kwargs)\u001b[0m\n\u001b[1;32m   2198\u001b[0m \u001b[38;5;129m@_copy_docstring_and_deprecators\u001b[39m(matplotlib\u001b[38;5;241m.\u001b[39mimage\u001b[38;5;241m.\u001b[39mimsave)\n\u001b[1;32m   2199\u001b[0m \u001b[38;5;28;01mdef\u001b[39;00m \u001b[38;5;21mimsave\u001b[39m(fname, arr, \u001b[38;5;241m*\u001b[39m\u001b[38;5;241m*\u001b[39mkwargs):\n\u001b[0;32m-> 2200\u001b[0m     \u001b[38;5;28;01mreturn\u001b[39;00m \u001b[43mmatplotlib\u001b[49m\u001b[38;5;241;43m.\u001b[39;49m\u001b[43mimage\u001b[49m\u001b[38;5;241;43m.\u001b[39;49m\u001b[43mimsave\u001b[49m\u001b[43m(\u001b[49m\u001b[43mfname\u001b[49m\u001b[43m,\u001b[49m\u001b[43m \u001b[49m\u001b[43marr\u001b[49m\u001b[43m,\u001b[49m\u001b[43m \u001b[49m\u001b[38;5;241;43m*\u001b[39;49m\u001b[38;5;241;43m*\u001b[39;49m\u001b[43mkwargs\u001b[49m\u001b[43m)\u001b[49m\n",
      "File \u001b[0;32m~/holoVirtualEnv/lib/python3.8/site-packages/matplotlib/image.py:1689\u001b[0m, in \u001b[0;36mimsave\u001b[0;34m(fname, arr, vmin, vmax, cmap, format, origin, dpi, metadata, pil_kwargs)\u001b[0m\n\u001b[1;32m   1687\u001b[0m pil_kwargs\u001b[38;5;241m.\u001b[39msetdefault(\u001b[38;5;124m\"\u001b[39m\u001b[38;5;124mformat\u001b[39m\u001b[38;5;124m\"\u001b[39m, \u001b[38;5;28mformat\u001b[39m)\n\u001b[1;32m   1688\u001b[0m pil_kwargs\u001b[38;5;241m.\u001b[39msetdefault(\u001b[38;5;124m\"\u001b[39m\u001b[38;5;124mdpi\u001b[39m\u001b[38;5;124m\"\u001b[39m, (dpi, dpi))\n\u001b[0;32m-> 1689\u001b[0m \u001b[43mimage\u001b[49m\u001b[38;5;241;43m.\u001b[39;49m\u001b[43msave\u001b[49m\u001b[43m(\u001b[49m\u001b[43mfname\u001b[49m\u001b[43m,\u001b[49m\u001b[43m \u001b[49m\u001b[38;5;241;43m*\u001b[39;49m\u001b[38;5;241;43m*\u001b[39;49m\u001b[43mpil_kwargs\u001b[49m\u001b[43m)\u001b[49m\n",
      "File \u001b[0;32m~/holoVirtualEnv/lib/python3.8/site-packages/PIL/Image.py:2563\u001b[0m, in \u001b[0;36mImage.save\u001b[0;34m(self, fp, format, **params)\u001b[0m\n\u001b[1;32m   2561\u001b[0m         fp \u001b[38;5;241m=\u001b[39m builtins\u001b[38;5;241m.\u001b[39mopen(filename, \u001b[38;5;124m\"\u001b[39m\u001b[38;5;124mr+b\u001b[39m\u001b[38;5;124m\"\u001b[39m)\n\u001b[1;32m   2562\u001b[0m     \u001b[38;5;28;01melse\u001b[39;00m:\n\u001b[0;32m-> 2563\u001b[0m         fp \u001b[38;5;241m=\u001b[39m \u001b[43mbuiltins\u001b[49m\u001b[38;5;241;43m.\u001b[39;49m\u001b[43mopen\u001b[49m\u001b[43m(\u001b[49m\u001b[43mfilename\u001b[49m\u001b[43m,\u001b[49m\u001b[43m \u001b[49m\u001b[38;5;124;43m\"\u001b[39;49m\u001b[38;5;124;43mw+b\u001b[39;49m\u001b[38;5;124;43m\"\u001b[39;49m\u001b[43m)\u001b[49m\n\u001b[1;32m   2564\u001b[0m \u001b[38;5;28;01melse\u001b[39;00m:\n\u001b[1;32m   2565\u001b[0m     fp \u001b[38;5;241m=\u001b[39m cast(IO[\u001b[38;5;28mbytes\u001b[39m], fp)\n",
      "\u001b[0;31mNotADirectoryError\u001b[0m: [Errno 20] Not a directory: '/Users/chuckles/holoVirtualEnv/holoimg/photo79656.jpg/03-06-112541-target_closer.png'"
     ]
    }
   ],
   "source": [
    "import os\n",
    "\n",
    "# Specify the directory containing the files\n",
    "directory = '/Users/chuckles/holoVirtualEnv/holoimg/photo79656.jpg'\n",
    "save_path = '/Users/chuckles/holoVirtualEnv/holoimg/'\n",
    "# Iterate through the files in the directory\n",
    "for filename in os.listdir(directory):\n",
    "    if filename.endswith('.dng'):\n",
    "        file_path = os.path.join(directory, filename)\n",
    "        print(f'Processing file: {file_path}')\n",
    "        FILE_PATH = file_path\n",
    "        hologram=im2double(dng_to_gray(FILE_PATH))\n",
    "        z_layers = range (2800, 2820, 20) \n",
    "        reconstruction_stack = generate_stack(hologram, z_layers)\n",
    "        # Change the filename to .png\n",
    "        new_filename = os.path.splitext(filename)[0] + '.png'\n",
    "        save_name = os.path.join(save_path, new_filename)\n",
    "        plt.imsave(save_name, reconstruction_stack[0])\n"
   ]
  },
  {
   "cell_type": "code",
   "execution_count": 2,
   "metadata": {},
   "outputs": [
    {
     "ename": "NameError",
     "evalue": "name 'Image' is not defined",
     "output_type": "error",
     "traceback": [
      "\u001b[0;31m---------------------------------------------------------------------------\u001b[0m",
      "\u001b[0;31mNameError\u001b[0m                                 Traceback (most recent call last)",
      "Cell \u001b[0;32mIn[2], line 37\u001b[0m\n\u001b[1;32m     34\u001b[0m width \u001b[38;5;241m=\u001b[39m \u001b[38;5;241m320\u001b[39m  \u001b[38;5;66;03m# Set the width of the image\u001b[39;00m\n\u001b[1;32m     35\u001b[0m height \u001b[38;5;241m=\u001b[39m \u001b[38;5;241m240\u001b[39m  \u001b[38;5;66;03m# Set the height of the image\u001b[39;00m\n\u001b[0;32m---> 37\u001b[0m image \u001b[38;5;241m=\u001b[39m \u001b[43mread_rgb565_file\u001b[49m\u001b[43m(\u001b[49m\u001b[43mfile_path\u001b[49m\u001b[43m,\u001b[49m\u001b[43m \u001b[49m\u001b[43mwidth\u001b[49m\u001b[43m,\u001b[49m\u001b[43m \u001b[49m\u001b[43mheight\u001b[49m\u001b[43m)\u001b[49m\n\u001b[1;32m     38\u001b[0m image\u001b[38;5;241m.\u001b[39mshow()  \u001b[38;5;66;03m# Display the image\u001b[39;00m\n\u001b[1;32m     39\u001b[0m \u001b[38;5;66;03m# image.save('output_image.png')  # Optionally save the image\u001b[39;00m\n",
      "Cell \u001b[0;32mIn[2], line 28\u001b[0m, in \u001b[0;36mread_rgb565_file\u001b[0;34m(file_path, width, height)\u001b[0m\n\u001b[1;32m     25\u001b[0m rgb_image \u001b[38;5;241m=\u001b[39m rgb565_to_rgb888(data)\n\u001b[1;32m     27\u001b[0m \u001b[38;5;66;03m# Create an image using PIL\u001b[39;00m\n\u001b[0;32m---> 28\u001b[0m image \u001b[38;5;241m=\u001b[39m \u001b[43mImage\u001b[49m\u001b[38;5;241m.\u001b[39mfromarray(rgb_image, \u001b[38;5;124m'\u001b[39m\u001b[38;5;124mRGB\u001b[39m\u001b[38;5;124m'\u001b[39m)\n\u001b[1;32m     30\u001b[0m \u001b[38;5;28;01mreturn\u001b[39;00m image\n",
      "\u001b[0;31mNameError\u001b[0m: name 'Image' is not defined"
     ]
    }
   ],
   "source": [
    "def rgb565_to_rgb888(data):\n",
    "    # Unpack the RGB565 data into a numpy array\n",
    "    rgb565 = np.frombuffer(data, dtype=np.uint16)\n",
    "    \n",
    "    # Extract the RGB components\n",
    "    r = (rgb565 >> 11) & 0x1F\n",
    "    g = (rgb565 >> 5) & 0x3F\n",
    "    b = rgb565 & 0x1F\n",
    "    \n",
    "    # Convert to 8-bit values\n",
    "    r = (r * 255 // 31).astype(np.uint8)\n",
    "    g = (g * 255 // 63).astype(np.uint8)\n",
    "    b = (b * 255 // 31).astype(np.uint8)\n",
    "    \n",
    "    # Stack the RGB channels together\n",
    "    rgb888 = np.stack((r, g, b), axis=-1)\n",
    "    \n",
    "    return rgb888\n",
    "\n",
    "def read_rgb565_file(file_path, width, height):\n",
    "    with open(file_path, 'rb') as f:\n",
    "        data = f.read()\n",
    "    \n",
    "    # Convert RGB565 to RGB888\n",
    "    rgb_image = rgb565_to_rgb888(data)\n",
    "    \n",
    "    # Create an image using PIL\n",
    "    image = Image.fromarray(rgb_image, 'RGB')\n",
    "    \n",
    "    return image\n",
    "\n",
    "# Example usage\n",
    "file_path = '/Users/chuckles/holoVirtualEnv/holoimg/photo51766'\n",
    "width = 320  # Set the width of the image\n",
    "height = 240  # Set the height of the image\n",
    "\n",
    "image = read_rgb565_file(file_path, width, height)\n",
    "image.show()  # Display the image\n",
    "# image.save('output_image.png')  # Optionally save the image"
   ]
  },
  {
   "cell_type": "code",
   "execution_count": null,
   "metadata": {},
   "outputs": [
    {
     "name": "stdout",
     "output_type": "stream",
     "text": [
      "Processing file: /Users/chuckles/holoVirtualEnv/holoimg/photo79656.jpg\n"
     ]
    }
   ],
   "source": [
    "# Specify the directory containing the files\n",
    "directory = '/Users/chuckles/holoVirtualEnv/holoimg/photo79656.jpg'\n",
    "\n",
    "directory = \"/Users/chuckles/holoVirtualEnv/holoimg/photo51766\"\n",
    "\n",
    "# Iterate through the files in the directory\n",
    "file_path = directory\n",
    "print(f'Processing file: {file_path}')\n",
    "FILE_PATH = file_path\n",
    "\n",
    "p1 = ImageToArray(bit_depth=16, channel='gray', crop_window=None, dtype='float32')\n",
    "hologram = import_image(file_path, modifiers=[p1])\n",
    "\n",
    "z_layers = range (3000, 3200, 10) \n",
    "reconstruction_stack = generate_stack(hologram, z_layers)\n",
    "# Change the filename to .png\n",
    "# new_filename = os.path.splitext(filename)[0] + '.png'\n",
    "# save_name = os.path.join(save_path, new_filename)\n",
    "# plt.imsave(save_name, reconstruction_stack[0])\n"
   ]
  },
  {
   "cell_type": "code",
   "execution_count": null,
   "metadata": {},
   "outputs": [
    {
     "data": {
      "application/vnd.jupyter.widget-view+json": {
       "model_id": "473d089e71de40caa39375ec4dcd1e01",
       "version_major": 2,
       "version_minor": 0
      },
      "text/plain": [
       "Button(description='Save Image', style=ButtonStyle())"
      ]
     },
     "metadata": {},
     "output_type": "display_data"
    },
    {
     "data": {
      "application/vnd.jupyter.widget-view+json": {
       "model_id": "00a85e726888409ab26621ab8dddda2a",
       "version_major": 2,
       "version_minor": 0
      },
      "text/plain": [
       "interactive(children=(IntSlider(value=0, description='Image Index', max=19), Output()), _dom_classes=('widget-…"
      ]
     },
     "metadata": {},
     "output_type": "display_data"
    }
   ],
   "source": [
    "images = reconstruction_stack\n",
    "# images_threshold = stacked_holo[0]\n",
    "num_images = np.shape(images)[0]\n",
    "\n",
    "\n",
    "# Create a function to display the selected image\n",
    "def display_image(index):\n",
    "    # # Apply soft thresholding\n",
    "    # threshold = 0.50\n",
    "    # range_width = 0.40\n",
    "    # images_threshold[index] = (soft_threshold(images[index], threshold, range_width))\n",
    "\n",
    "    # Update the title based on the current index (z_layer)\n",
    "    plt.figure(figsize=(15, 15))  # Set the figure size (width, height) in inches\n",
    "    plt.imshow(images[index], cmap='gray')\n",
    "    plt.title(f\"Image at distance: {z_layers[index]} um \")\n",
    "    plt.axis('off')\n",
    "    plt.colorbar(orientation='vertical')  # You can change orientation to 'horizontal' if needed\n",
    "    plt.show()\n",
    "\n",
    "def save_image(index):\n",
    "    plt.imsave(f'saved_image_{index}.jpg', images[index], cmap='gray')\n",
    "    print(f'Image saved as saved_image_{index}.jpg')\n",
    "\n",
    "# Create a slider for selecting the image index\n",
    "image_slider = widgets.IntSlider(value=0, min=0, max=len(images)-1, step=1, description='Image Index')\n",
    "\n",
    "# Create a button to save the image\n",
    "save_button = widgets.Button(description=\"Save Image\")\n",
    "\n",
    "# Link the button click event to the save_image function\n",
    "def on_save_button_click(b):\n",
    "    save_image(image_slider.value)\n",
    "\n",
    "save_button.on_click(on_save_button_click)\n",
    "\n",
    "# Create an interactive widget\n",
    "interactive_display = widgets.interactive(display_image, index=image_slider)\n",
    "\n",
    "# Display the slider and the save button\n",
    "display(save_button)\n",
    "display(interactive_display)\n"
   ]
  },
  {
   "cell_type": "code",
   "execution_count": null,
   "metadata": {},
   "outputs": [],
   "source": [
    "import numpy as np\n",
    "from PIL import Image\n",
    "\n",
    "# Create a stack of random images (for demonstration purposes)\n",
    "num_images = 10  # Number of images in the stack\n",
    "image_height = 100\n",
    "image_width = 100\n",
    "\n",
    "# Create a list to hold the images\n",
    "images = []\n",
    "\n",
    "for i in range(num_images):\n",
    "    # Create a random image\n",
    "    random_image = np.random.rand(image_height, image_width, 3) * 255  # Random RGB image\n",
    "    random_image = random_image.astype('uint8')  # Convert to uint8\n",
    "    images.append(Image.fromarray(random_image))\n",
    "\n",
    "# Specify the filename for the GIF\n",
    "gif_filename = 'output_animation.gif'\n",
    "\n",
    "# Save the images as a GIF\n",
    "images[0].save(gif_filename, save_all=True, append_images=images[1:], duration=100, loop=0)\n",
    "\n",
    "print(f'GIF saved as: {gif_filename}')"
   ]
  }
 ],
 "metadata": {
  "kernelspec": {
   "display_name": "holoVirtualEnv",
   "language": "python",
   "name": "python3"
  },
  "language_info": {
   "codemirror_mode": {
    "name": "ipython",
    "version": 3
   },
   "file_extension": ".py",
   "mimetype": "text/x-python",
   "name": "python",
   "nbconvert_exporter": "python",
   "pygments_lexer": "ipython3",
   "version": "3.8.5"
  }
 },
 "nbformat": 4,
 "nbformat_minor": 2
}
